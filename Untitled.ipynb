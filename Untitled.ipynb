{
 "cells": [
  {
   "cell_type": "markdown",
   "metadata": {},
   "source": [
    "|col1|col2|col3|\n",
    "|:-:|:-:|:-:|\n",
    "|toto | toto | toto |\n",
    "+-----------------------+-----------------------+-----------------------+\n",
    "| Semaine du            | Tâches                | Indications           |\n",
    "+:======================+:======================+:======================+\n",
    "| 13/09                 | Prise de contact des  | modalités de travail  |\n",
    "|                       | équipes               | de groupe (plateforme |\n",
    "|                       |                       | numérique de          |\n",
    "|                       | Rendu du choix du     | collaboration,        |\n",
    "|                       | sujet                 | créneaux              |\n",
    "|                       |                       | hebdomadaires de      |\n",
    "|                       |                       | travail en commun)    |\n",
    "+-----------------------+-----------------------+-----------------------+\n",
    "| du 20/09 au 08/10     | Séance de travail en  | 30 min d'entretien    |\n",
    "|                       | classe                | particulier avec      |\n",
    "|                       |                       | l'enseignante         |\n",
    "+-----------------------+-----------------------+-----------------------+\n",
    "| 27/09                 | Rendu des sources     | Titre, Auteur,        |\n",
    "|                       | documentaires         | Éditeur, Ref. BU ou   |\n",
    "|                       |                       | adresse web           |\n",
    "+-----------------------+-----------------------+-----------------------+\n"
   ]
  },
  {
   "cell_type": "markdown",
   "metadata": {},
   "source": [
    "|col1|col2|col3|\n",
    "|:-:|:-:|:-:|\n",
    "|toto | toto | toto |"
   ]
  }
 ],
 "metadata": {
  "hide_input": false,
  "kernelspec": {
   "display_name": "Python 3",
   "language": "python",
   "name": "python3"
  },
  "language_info": {
   "codemirror_mode": {
    "name": "ipython",
    "version": 3
   },
   "file_extension": ".py",
   "mimetype": "text/x-python",
   "name": "python",
   "nbconvert_exporter": "python",
   "pygments_lexer": "ipython3",
   "version": "3.8.10"
  }
 },
 "nbformat": 4,
 "nbformat_minor": 4
}
